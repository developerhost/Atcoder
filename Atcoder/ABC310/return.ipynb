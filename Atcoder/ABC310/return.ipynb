{
 "cells": [
  {
   "attachments": {},
   "cell_type": "markdown",
   "metadata": {},
   "source": [
    "# 再帰関数の実装\n",
    "\n",
    "https://somachob.com/python-recursive-function/"
   ]
  },
  {
   "cell_type": "code",
   "execution_count": 2,
   "metadata": {},
   "outputs": [
    {
     "name": "stdout",
     "output_type": "stream",
     "text": [
      "5\n",
      "4\n",
      "3\n",
      "2\n",
      "1\n",
      "120\n"
     ]
    }
   ],
   "source": [
    "def factorial(n):\n",
    "    if n == 0:\n",
    "        return 1\n",
    "    else:\n",
    "        print(n)\n",
    "        return n * factorial(n-1)\n",
    "\n",
    "print(factorial(5))\t# => 120"
   ]
  },
  {
   "attachments": {},
   "cell_type": "markdown",
   "metadata": {},
   "source": [
    "## ユークリッド互除法を再帰関数で実装したコード"
   ]
  },
  {
   "cell_type": "code",
   "execution_count": null,
   "metadata": {},
   "outputs": [],
   "source": [
    "def gcd(a, b):\n",
    "    if b == 0:\t# ベースケース\n",
    "        return a\n",
    "    else:\t\t# 再帰ステップ\n",
    "        return gcd(b, a % b)"
   ]
  },
  {
   "attachments": {},
   "cell_type": "markdown",
   "metadata": {},
   "source": [
    "## ２分探索"
   ]
  },
  {
   "cell_type": "code",
   "execution_count": null,
   "metadata": {},
   "outputs": [],
   "source": [
    "def binary_search(arr, left, right, target):\n",
    "    # ベースケース\n",
    "    # 値が存在しない場合は -1 を返す\n",
    "    if right < left:\n",
    "        return -1\n",
    "\n",
    "    # 中央のインデックスを計算する\n",
    "    mid = (left + right) // 2\n",
    "\n",
    "    # 中央の要素が探している値と等しい場合は、そのインデックスを返す\n",
    "    if arr[mid] == target:\n",
    "        return mid\n",
    "\n",
    "    # 再帰ステップ\n",
    "    # 中央の要素よりも小さい場合、左側の配列を再帰的に探索する\n",
    "    elif arr[mid] > target:\n",
    "        return binary_search(arr, left, mid - 1, target)\n",
    "\n",
    "    # 中央の要素よりも大きい場合、右側の配列を再帰的に探索する\n",
    "    else:\n",
    "        return binary_search(arr, mid + 1, right, target)"
   ]
  },
  {
   "attachments": {},
   "cell_type": "markdown",
   "metadata": {},
   "source": [
    "## フィボナッチ数列"
   ]
  },
  {
   "cell_type": "code",
   "execution_count": 5,
   "metadata": {},
   "outputs": [
    {
     "name": "stdout",
     "output_type": "stream",
     "text": [
      "fibonacci(5)が呼び出されました\n",
      "fibonacci(4)が呼び出されました\n",
      "fibonacci(3)が呼び出されました\n",
      "fibonacci(2)が呼び出されました\n",
      "fibonacci(1)が呼び出されました\n",
      "fibonacci(0)が呼び出されました\n",
      "fibonacci(1)が呼び出されました\n",
      "fibonacci(2)が呼び出されました\n",
      "fibonacci(1)が呼び出されました\n",
      "fibonacci(0)が呼び出されました\n",
      "fibonacci(3)が呼び出されました\n",
      "fibonacci(2)が呼び出されました\n",
      "fibonacci(1)が呼び出されました\n",
      "fibonacci(0)が呼び出されました\n",
      "fibonacci(1)が呼び出されました\n",
      "fibonacci(5)の結果：5\n"
     ]
    }
   ],
   "source": [
    "def fibonacci(n):\n",
    "    print(f'fibonacci({n})が呼び出されました')\n",
    "    if n == 0:\t\t# ベースケース\n",
    "        return 0\n",
    "    elif n == 1:\t# ベースケース\n",
    "        return 1\n",
    "    else:\t\t\t# 再帰ステップ\n",
    "        return fibonacci(n-1) + fibonacci(n-2)\n",
    "    \n",
    "n = 5\n",
    "result = fibonacci(n)\n",
    "print(f'fibonacci({n})の結果：{result}')"
   ]
  },
  {
   "attachments": {},
   "cell_type": "markdown",
   "metadata": {},
   "source": [
    "### メモ化"
   ]
  },
  {
   "cell_type": "code",
   "execution_count": 6,
   "metadata": {},
   "outputs": [
    {
     "name": "stdout",
     "output_type": "stream",
     "text": [
      "fibonacci(5)が呼び出されました\n",
      "fibonacci(4)が呼び出されました\n",
      "fibonacci(3)が呼び出されました\n",
      "fibonacci(2)が呼び出されました\n",
      "fibonacci(1)が呼び出されました\n",
      "fibonacci(0)が呼び出されました\n",
      "fibonacci(1)が呼び出されました\n",
      "fibonacci(2)が呼び出されました\n",
      "fibonacci(3)が呼び出されました\n",
      "fibonacci(5)の結果：5\n"
     ]
    },
    {
     "data": {
      "text/plain": [
       "'実行結果\\nfibonacci(5)が呼び出されました\\nfibonacci(4)が呼び出されました\\nfibonacci(3)が呼び出されました\\nfibonacci(2)が呼び出されました\\nfibonacci(1)が呼び出されました\\nfibonacci(0)が呼び出されました\\nfibonacci(1)が呼び出されました\\nfibonacci(2)が呼び出されました\\nfibonacci(3)が呼び出されました\\nfibonacci(5)の結果：5\\n'"
      ]
     },
     "execution_count": 6,
     "metadata": {},
     "output_type": "execute_result"
    }
   ],
   "source": [
    "def fibonacci(n, memo):\n",
    "    print(f'fibonacci({n})が呼び出されました')\n",
    "    \n",
    "    # メモがあればメモを返す\n",
    "    if memo[n] is not None:\n",
    "        return memo[n]\n",
    "\n",
    "    if n == 0:\t\t# ベースケース\n",
    "        return 0\n",
    "    elif n == 1:\t# ベースケース\n",
    "        return 1\n",
    "\n",
    "    # 再帰ステップ\n",
    "    memo[n] = fibonacci(n-1, memo) + fibonacci(n-2, memo)\n",
    "    return memo[n]\n",
    "\n",
    "  \n",
    "n = 5\n",
    "memo = [None] * (n + 1)\n",
    "result = fibonacci(n, memo)\n",
    "print(f'fibonacci({n})の結果：{result}')"
   ]
  },
  {
   "attachments": {},
   "cell_type": "markdown",
   "metadata": {},
   "source": [
    "## 深さ優先探索（DFS）\n",
    "\n",
    "深さ優先探索（DFS）は、スタート地点から出発して、可能な限り深く探索していくアルゴリズムです。\n",
    "\n",
    "具体的には、スタート地点から最初につながっている頂点を選んで、その頂点から再帰的に探索していきます。\n",
    "\n",
    "もし行き止まりになった場合は、直前の頂点に戻り、そこから探索を続けます。このようにして、全ての頂点を探索します。\n",
    "\n",
    "\n",
    "* スタート地点を訪問済みにする。\n",
    "* スタート地点の隣接地点を再帰的に訪問する。\n",
    "* 訪問済みの隣接地点はスキップする。"
   ]
  },
  {
   "cell_type": "code",
   "execution_count": null,
   "metadata": {},
   "outputs": [],
   "source": [
    "def dfs(pos, visited, graph):\n",
    "    # 現在の頂点を訪問済みにする\n",
    "    visited[pos] = True\n",
    "\n",
    "    # 今いる地点の隣接地点を順番にチェックする\n",
    "    for next_pos in graph[pos]:\n",
    "        # 未訪問の隣接地点がある場合は、その地点に移動して再帰的に探索する\n",
    "        if visited[next_pos] == False:\n",
    "            dfs(next_pos, visited, graph)"
   ]
  },
  {
   "cell_type": "code",
   "execution_count": 7,
   "metadata": {},
   "outputs": [],
   "source": [
    "graph = {\n",
    "    0: [1, 3],\n",
    "    1: [0, 2, 4],\n",
    "    2: [1],\n",
    "    3: [0, 4],\n",
    "    4: [1, 3]\n",
    "}"
   ]
  },
  {
   "cell_type": "code",
   "execution_count": 9,
   "metadata": {},
   "outputs": [
    {
     "name": "stdout",
     "output_type": "stream",
     "text": [
      "Visited Node: 0\n",
      "Visited Node: 1\n",
      "Visited Node: 2\n",
      "Visited Node: 4\n",
      "Visited Node: 3\n"
     ]
    }
   ],
   "source": [
    "def dfs(pos, visited, graph):\n",
    "    # 現在の頂点を訪問済みにする\n",
    "    visited[pos] = True\n",
    "\n",
    "    # 今いる地点の情報を表示する（任意）\n",
    "    print(f\"Visited Node: {pos}\")\n",
    "\n",
    "    # 今いる地点の隣接地点を順番にチェックする\n",
    "    for next_pos in graph[pos]:\n",
    "        # 未訪問の隣接地点がある場合は、その地点に移動して再帰的に探索する\n",
    "        if visited[next_pos] == False:\n",
    "            dfs(next_pos, visited, graph)\n",
    "\n",
    "graph = {\n",
    "    0: [1, 3],\n",
    "    1: [0, 2, 4],\n",
    "    2: [1],\n",
    "    3: [0, 4],\n",
    "    4: [1, 3]\n",
    "}\n",
    "\n",
    "visited = [False] * len(graph) # 訪問済みノードを管理するリスト\n",
    "dfs(0, visited, graph) # ノード0からDFSを開始"
   ]
  }
 ],
 "metadata": {
  "kernelspec": {
   "display_name": "Python 3",
   "language": "python",
   "name": "python3"
  },
  "language_info": {
   "codemirror_mode": {
    "name": "ipython",
    "version": 3
   },
   "file_extension": ".py",
   "mimetype": "text/x-python",
   "name": "python",
   "nbconvert_exporter": "python",
   "pygments_lexer": "ipython3",
   "version": "3.11.1"
  },
  "orig_nbformat": 4
 },
 "nbformat": 4,
 "nbformat_minor": 2
}
