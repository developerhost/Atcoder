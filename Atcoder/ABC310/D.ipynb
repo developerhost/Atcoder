{
 "cells": [
  {
   "attachments": {},
   "cell_type": "markdown",
   "metadata": {},
   "source": [
    "https://somachob.com/abc310-d/"
   ]
  },
  {
   "cell_type": "code",
   "execution_count": 1,
   "metadata": {},
   "outputs": [
    {
     "name": "stdout",
     "output_type": "stream",
     "text": [
      "5 2 2\n",
      "[[2], [], [0, 3], [2], []]\n"
     ]
    }
   ],
   "source": [
    "# 入力\n",
    "N, T, M = map(int, input().split())\n",
    "NG = [[] for _ in range(N)]  # NG[i] := i番目のノードから行けるノードのリスト\n",
    "for _ in range(M):\n",
    "    A, B = map(int, input().split())\n",
    "    A -= 1\n",
    "    B -= 1\n",
    "    NG[A].append(B)\n",
    "    NG[B].append(A)\n",
    "\n",
    "# 入力確認\n",
    "print(N, T, M)\n",
    "print(NG)"
   ]
  },
  {
   "cell_type": "code",
   "execution_count": null,
   "metadata": {},
   "outputs": [],
   "source": [
    "\"\"\" 出力結果\n",
    "たとえば、NG[0] の値は、選手１の相性の悪い選手を表します。\n",
    "\n",
    "NG[0] = 2 なので、選手1は選手3（2+1）と相性が悪いということです。\n",
    "\n",
    "NG[2] = [0, 3] なので、選手３は【選手１と選手４】と相性が悪いことを表します。\n",
    "\n",
    "5 2 2\n",
    "\n",
    "[[2], [], [0, 3], [2], []]\n",
    "\"\"\""
   ]
  },
  {
   "attachments": {},
   "cell_type": "markdown",
   "metadata": {},
   "source": [
    "## 再帰関数の実装"
   ]
  },
  {
   "cell_type": "code",
   "execution_count": null,
   "metadata": {},
   "outputs": [],
   "source": [
    "def 関数名(引数):\n",
    "    # ベースケース\n",
    "    if 条件:\n",
    "        return 値\n",
    "\n",
    "    # 再帰ステップ\n",
    "    else:\n",
    "        return 関数名(引数を更新した値)"
   ]
  },
  {
   "attachments": {},
   "cell_type": "markdown",
   "metadata": {},
   "source": [
    "これをもとに各選手をチーム分けする関数を作成します。\n",
    "\n",
    "各選手については、すでにあるいずれかのチームに所属させるか、新しいチームに所属させるかのパターンで実装します。\n",
    "\n",
    "ベースケースは「すべての選手について処理したとき」として設定します。\n",
    "\n",
    "これをするコードが次のコードです。N=3 のときの出力結果を表示させています。"
   ]
  },
  {
   "cell_type": "code",
   "execution_count": 2,
   "metadata": {},
   "outputs": [
    {
     "name": "stdout",
     "output_type": "stream",
     "text": [
      "[[0, 1, 2, 3, 4]]\n",
      "[[0, 1, 2, 3], [4]]\n",
      "[[0, 1, 2, 4], [3]]\n",
      "[[0, 1, 2], [3, 4]]\n",
      "[[0, 1, 2], [3], [4]]\n",
      "[[0, 1, 3, 4], [2]]\n",
      "[[0, 1, 3], [2, 4]]\n",
      "[[0, 1, 3], [2], [4]]\n",
      "[[0, 1, 4], [2, 3]]\n",
      "[[0, 1], [2, 3, 4]]\n",
      "[[0, 1], [2, 3], [4]]\n",
      "[[0, 1, 4], [2], [3]]\n",
      "[[0, 1], [2, 4], [3]]\n",
      "[[0, 1], [2], [3, 4]]\n",
      "[[0, 1], [2], [3], [4]]\n",
      "[[0, 2, 3, 4], [1]]\n",
      "[[0, 2, 3], [1, 4]]\n",
      "[[0, 2, 3], [1], [4]]\n",
      "[[0, 2, 4], [1, 3]]\n",
      "[[0, 2], [1, 3, 4]]\n",
      "[[0, 2], [1, 3], [4]]\n",
      "[[0, 2, 4], [1], [3]]\n",
      "[[0, 2], [1, 4], [3]]\n",
      "[[0, 2], [1], [3, 4]]\n",
      "[[0, 2], [1], [3], [4]]\n",
      "[[0, 3, 4], [1, 2]]\n",
      "[[0, 3], [1, 2, 4]]\n",
      "[[0, 3], [1, 2], [4]]\n",
      "[[0, 4], [1, 2, 3]]\n",
      "[[0], [1, 2, 3, 4]]\n",
      "[[0], [1, 2, 3], [4]]\n",
      "[[0, 4], [1, 2], [3]]\n",
      "[[0], [1, 2, 4], [3]]\n",
      "[[0], [1, 2], [3, 4]]\n",
      "[[0], [1, 2], [3], [4]]\n",
      "[[0, 3, 4], [1], [2]]\n",
      "[[0, 3], [1, 4], [2]]\n",
      "[[0, 3], [1], [2, 4]]\n",
      "[[0, 3], [1], [2], [4]]\n",
      "[[0, 4], [1, 3], [2]]\n",
      "[[0], [1, 3, 4], [2]]\n",
      "[[0], [1, 3], [2, 4]]\n",
      "[[0], [1, 3], [2], [4]]\n",
      "[[0, 4], [1], [2, 3]]\n",
      "[[0], [1, 4], [2, 3]]\n",
      "[[0], [1], [2, 3, 4]]\n",
      "[[0], [1], [2, 3], [4]]\n",
      "[[0, 4], [1], [2], [3]]\n",
      "[[0], [1, 4], [2], [3]]\n",
      "[[0], [1], [2, 4], [3]]\n",
      "[[0], [1], [2], [3, 4]]\n",
      "[[0], [1], [2], [3], [4]]\n"
     ]
    },
    {
     "data": {
      "text/plain": [
       "'出力結果\\n[[0, 1, 2]]\\n[[0, 1], [2]]\\n[[0, 2], [1]]\\n[[0], [1, 2]]\\n[[0], [1], [2]]\\n'"
      ]
     },
     "execution_count": 2,
     "metadata": {},
     "output_type": "execute_result"
    }
   ],
   "source": [
    "def rec(player, teams):\n",
    "    # ベースケース\n",
    "    if player == N:\n",
    "        # できたチームの確認\n",
    "        print(teams)\n",
    "        return\n",
    "\n",
    "    # 再帰ステップ\n",
    "    # すでにあるチームに所属させる\n",
    "    for i in range(len(teams)):\n",
    "        teams[i].append(player)\t# チームに所属させる\n",
    "        rec(player + 1, teams)\t# 次の選手について再帰処理\n",
    "        teams[i].pop()\t\t\t# チームから抜ける\n",
    "\n",
    "    # 新しいチームに所属させる\n",
    "    teams.append([player])\t# チームに所属させる\n",
    "    rec(player + 1, teams)\t# 次の選手について再帰処理\n",
    "    teams.pop()\t\t\t\t# チームから抜ける\n",
    "\n",
    "\n",
    "rec(0,[])\n",
    "\n",
    "\n",
    "\"\"\"出力結果\n",
    "[[0, 1, 2]]\n",
    "[[0, 1], [2]]\n",
    "[[0, 2], [1]]\n",
    "[[0], [1, 2]]\n",
    "[[0], [1], [2]]\n",
    "\"\"\""
   ]
  },
  {
   "attachments": {},
   "cell_type": "markdown",
   "metadata": {},
   "source": [
    "## できたチームの数を判定する\n",
    "\n",
    "N(選手)=5, T(チーム)=2の場合\n",
    "\n",
    "２チームに分けたときのパターンだけ出力されているのが確認できます。"
   ]
  },
  {
   "cell_type": "code",
   "execution_count": 3,
   "metadata": {},
   "outputs": [
    {
     "name": "stdout",
     "output_type": "stream",
     "text": [
      "[[0, 1, 2, 3], [4]]\n",
      "[[0, 1, 2, 4], [3]]\n",
      "[[0, 1, 2], [3, 4]]\n",
      "[[0, 1, 3, 4], [2]]\n",
      "[[0, 1, 3], [2, 4]]\n",
      "[[0, 1, 4], [2, 3]]\n",
      "[[0, 1], [2, 3, 4]]\n",
      "[[0, 2, 3, 4], [1]]\n",
      "[[0, 2, 3], [1, 4]]\n",
      "[[0, 2, 4], [1, 3]]\n",
      "[[0, 2], [1, 3, 4]]\n",
      "[[0, 3, 4], [1, 2]]\n",
      "[[0, 3], [1, 2, 4]]\n",
      "[[0, 4], [1, 2, 3]]\n",
      "[[0], [1, 2, 3, 4]]\n"
     ]
    },
    {
     "data": {
      "text/plain": [
       "'出力結果\\n[[0, 1, 2, 3], [4]]\\n[[0, 1, 2, 4], [3]]\\n[[0, 1, 2], [3, 4]]\\n[[0, 1, 3, 4], [2]]\\n[[0, 1, 3], [2, 4]]\\n[[0, 1, 4], [2, 3]]\\n[[0, 1], [2, 3, 4]]\\n[[0, 2, 3, 4], [1]]\\n[[0, 2, 3], [1, 4]]\\n[[0, 2, 4], [1, 3]]\\n[[0, 2], [1, 3, 4]]\\n[[0, 3, 4], [1, 2]]\\n[[0, 3], [1, 2, 4]]\\n[[0, 4], [1, 2, 3]]\\n[[0], [1, 2, 3, 4]]\\n'"
      ]
     },
     "execution_count": 3,
     "metadata": {},
     "output_type": "execute_result"
    }
   ],
   "source": [
    "def rec(player, teams):\n",
    "    # ベースケース\n",
    "    if player == N:\n",
    "        # チーム数が T でないとき\n",
    "        if len(teams) != T:\n",
    "            return \n",
    "        \n",
    "        # できたチームの確認\n",
    "        print(teams)\n",
    "        return\n",
    "\n",
    "      \n",
    "    # 再帰ステップ\n",
    "    # すでにあるチームに所属させる\n",
    "    for i in range(len(teams)):\n",
    "        teams[i].append(player)\t# チームに所属させる\n",
    "        rec(player + 1, teams)\t# 次の選手について再帰処理\n",
    "        teams[i].pop()\t\t\t# チームから抜ける\n",
    "\n",
    "    # 新しいチームに所属させる\n",
    "    teams.append([player])\t# チームに所属させる\n",
    "    rec(player + 1, teams)\t# 次の選手について再帰処理\n",
    "    teams.pop()\t\t\t\t# チームから抜ける\n",
    "\n",
    "\n",
    "rec(0,[])\n",
    "\n",
    "\n",
    "\"\"\"出力結果\n",
    "[[0, 1, 2, 3], [4]]\n",
    "[[0, 1, 2, 4], [3]]\n",
    "[[0, 1, 2], [3, 4]]\n",
    "[[0, 1, 3, 4], [2]]\n",
    "[[0, 1, 3], [2, 4]]\n",
    "[[0, 1, 4], [2, 3]]\n",
    "[[0, 1], [2, 3, 4]]\n",
    "[[0, 2, 3, 4], [1]]\n",
    "[[0, 2, 3], [1, 4]]\n",
    "[[0, 2, 4], [1, 3]]\n",
    "[[0, 2], [1, 3, 4]]\n",
    "[[0, 3, 4], [1, 2]]\n",
    "[[0, 3], [1, 2, 4]]\n",
    "[[0, 4], [1, 2, 3]]\n",
    "[[0], [1, 2, 3, 4]]\n",
    "\"\"\""
   ]
  },
  {
   "attachments": {},
   "cell_type": "markdown",
   "metadata": {},
   "source": [
    "## 相性の悪い選手がいるか判定する\n",
    "\n",
    "次の関数は、選手と所属させたいチームを受け取り、チーム内に相性が悪い選手がいるときは、True を返します。\n",
    "\n",
    "この関数を使って、選手をチームに所属させる前に相性の悪い選手がいるかを確認するようにします。\n",
    "\n",
    "新しいチームに所属させるときは、1人だけなので、確認する必要はありません。"
   ]
  },
  {
   "cell_type": "code",
   "execution_count": 4,
   "metadata": {},
   "outputs": [],
   "source": [
    "# 相性の悪い選手がチームにいるか判定する関数\n",
    "def is_NG(player, team):\n",
    "    for member in team:\n",
    "        # チームのメンバーと相性が悪いとき\n",
    "        if member in NG[player]:\n",
    "            return True\n",
    "\n",
    "    return False"
   ]
  },
  {
   "cell_type": "code",
   "execution_count": 5,
   "metadata": {},
   "outputs": [
    {
     "name": "stdout",
     "output_type": "stream",
     "text": [
      "[[0, 1, 3, 4], [2]]\n",
      "[[0, 1, 3], [2, 4]]\n",
      "[[0, 3, 4], [1, 2]]\n",
      "[[0, 3], [1, 2, 4]]\n"
     ]
    },
    {
     "data": {
      "text/plain": [
       "'出力結果\\n[[0, 1, 3, 4], [2]]\\n[[0, 1, 3], [2, 4]]\\n[[0, 3, 4], [1, 2]]\\n[[0, 3], [1, 2, 4]]\\n'"
      ]
     },
     "execution_count": 5,
     "metadata": {},
     "output_type": "execute_result"
    }
   ],
   "source": [
    "# 入力\n",
    "N, T, M = map(int, input().split())\n",
    "NG = [[] for _ in range(N)] \n",
    "for _ in range(M):\n",
    "    A, B = map(int, input().split())\n",
    "    A -= 1\n",
    "    B -= 1\n",
    "    NG[A].append(B)\n",
    "    NG[B].append(A)\n",
    "\n",
    "    \n",
    "# 相性の悪い選手がチームにいるか判定する関数\n",
    "def is_NG(player, team):\n",
    "    for member in team:\n",
    "        # チームのメンバーと相性が悪いとき\n",
    "        if member in NG[player]:\n",
    "            return True\n",
    "\n",
    "    return False\n",
    "  \n",
    "\n",
    "def rec(player, teams):\n",
    "    # ベースケース\n",
    "    if player == N:\n",
    "        # チーム数が T でないとき\n",
    "        if len(teams) != T:\n",
    "            return \n",
    "        \n",
    "        # できたチームの確認\n",
    "        print(teams)\n",
    "        return\n",
    "\n",
    "      \n",
    "    # 再帰ステップ\n",
    "    # すでにあるチームに所属させる\n",
    "    for i in range(len(teams)):\n",
    "        # 相性の悪い選手がいるとき\n",
    "        if is_NG(player, teams[i]):\n",
    "            continue\n",
    "      \n",
    "        teams[i].append(player)\t# チームに所属させる\n",
    "        rec(player + 1, teams)\t# 次の選手について再帰処理\n",
    "        teams[i].pop()\t\t\t# チームから抜ける\n",
    "\n",
    "    # 新しいチームに所属させる\n",
    "    teams.append([player])\t# チームに所属させる\n",
    "    rec(player + 1, teams)\t# 次の選手について再帰処理\n",
    "    teams.pop()\t\t\t\t# チームから抜ける\n",
    "\n",
    "\n",
    "rec(0,[])\n",
    "\n",
    "\n",
    "\"\"\"出力結果\n",
    "[[0, 1, 3, 4], [2]]\n",
    "[[0, 1, 3], [2, 4]]\n",
    "[[0, 3, 4], [1, 2]]\n",
    "[[0, 3], [1, 2, 4]]\n",
    "\"\"\""
   ]
  },
  {
   "attachments": {},
   "cell_type": "markdown",
   "metadata": {},
   "source": [
    "## チーム分けが何通りあるかを数える"
   ]
  },
  {
   "cell_type": "code",
   "execution_count": null,
   "metadata": {},
   "outputs": [],
   "source": [
    "# 入力\n",
    "N, T, M = map(int, input().split())\n",
    "NG = [[] for _ in range(N)] \n",
    "for _ in range(M):\n",
    "    A, B = map(int, input().split())\n",
    "    A -= 1\n",
    "    B -= 1\n",
    "    NG[A].append(B)\n",
    "    NG[B].append(A)\n",
    "\n",
    "\n",
    "    \n",
    "# 相性の悪い選手がチームにいるか判定する関数\n",
    "def is_NG(player, team):\n",
    "    for member in team:\n",
    "        # チームのメンバーと相性が悪いとき\n",
    "        if member in NG[player]:\n",
    "            return True\n",
    "\n",
    "    return False\n",
    "  \n",
    "\n",
    "def rec(player, teams):\n",
    "    # グローバル宣言\n",
    "    global answer\n",
    "    \n",
    "    # ベースケース\n",
    "    if player == N:\n",
    "        # チーム数が T でないとき\n",
    "        if len(teams) != T:\n",
    "            return \n",
    "        \n",
    "        # 条件を満たすチームなので１足す\n",
    "        answer += 1\n",
    "        return\n",
    "\n",
    "      \n",
    "    # 再帰ステップ\n",
    "    # すでにあるチームに所属させる\n",
    "    for i in range(len(teams)):\n",
    "        # 相性の悪い選手がいるとき\n",
    "        if is_NG(player, teams[i]):\n",
    "            continue\n",
    "      \n",
    "        teams[i].append(player)\t# チームに所属させる\n",
    "        rec(player + 1, teams)\t# 次の選手について再帰処理\n",
    "        teams[i].pop()\t\t\t# チームから抜ける\n",
    "\n",
    "    # 新しいチームに所属させる\n",
    "    teams.append([player])\t# チームに所属させる\n",
    "    rec(player + 1, teams)\t# 次の選手について再帰処理\n",
    "    teams.pop()\t\t\t\t# チームから抜ける\n",
    "\n",
    "answer = 0\n",
    "rec(0,[])\n",
    "print(answer)"
   ]
  }
 ],
 "metadata": {
  "kernelspec": {
   "display_name": "Python 3",
   "language": "python",
   "name": "python3"
  },
  "language_info": {
   "codemirror_mode": {
    "name": "ipython",
    "version": 3
   },
   "file_extension": ".py",
   "mimetype": "text/x-python",
   "name": "python",
   "nbconvert_exporter": "python",
   "pygments_lexer": "ipython3",
   "version": "3.11.1"
  },
  "orig_nbformat": 4
 },
 "nbformat": 4,
 "nbformat_minor": 2
}
